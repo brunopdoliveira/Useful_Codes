{
 "cells": [
  {
   "cell_type": "markdown",
   "id": "0e7b776e",
   "metadata": {},
   "source": [
    "# Pontuação F1\n",
    "\n",
    "### Bruno Oliveira"
   ]
  },
  {
   "attachments": {
    "f1.PNG": {
     "image/png": "[encoded data removed]"
    }
   },
   "cell_type": "markdown",
   "id": "73f46a12",
   "metadata": {},
   "source": [
    "![f1.PNG](attachment:f1.PNG)"
   ]
  },
  {
   "cell_type": "code",
   "execution_count": null,
   "id": "753ab495",
   "metadata": {},
   "outputs": [],
   "source": [
    "precision = base_results[5]                         #Precisão é o sexto elemento das métricas\n",
    "recall = base_results[6]                            #Precisão é o sétimo elemento das métricas\n",
    "F1 = 2*precision*recall/(precision + recall)\n",
    "print('Pontuação F1 = ', F1)"
   ]
  }
 ],
 "metadata": {
  "kernelspec": {
   "display_name": "Python 3",
   "language": "python",
   "name": "python3"
  },
  "language_info": {
   "codemirror_mode": {
    "name": "ipython",
    "version": 3
   },
   "file_extension": ".py",
   "mimetype": "text/x-python",
   "name": "python",
   "nbconvert_exporter": "python",
   "pygments_lexer": "ipython3",
   "version": "3.8.8"
  }
 },
 "nbformat": 4,
 "nbformat_minor": 5
}
