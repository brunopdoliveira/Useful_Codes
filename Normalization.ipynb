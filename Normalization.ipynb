{
 "cells": [
  {
   "cell_type": "markdown",
   "id": "330f1170",
   "metadata": {},
   "source": [
    "# Normalização\n",
    "\n",
    "### Bruno Oliveira"
   ]
  },
  {
   "cell_type": "markdown",
   "id": "2ff324ec",
   "metadata": {},
   "source": [
    "No código a seguir é mostrado um exemplo de como fazer a normalização dos dados de entrada\n",
    "e de saída usando funções da biblioteca numpy."
   ]
  },
  {
   "cell_type": "code",
   "execution_count": 2,
   "id": "ced35f71",
   "metadata": {},
   "outputs": [
    {
     "ename": "NameError",
     "evalue": "name 'x_train' is not defined",
     "output_type": "error",
     "traceback": [
      "\u001b[1;31m---------------------------------------------------------------------------\u001b[0m",
      "\u001b[1;31mNameError\u001b[0m                                 Traceback (most recent call last)",
      "\u001b[1;32m<ipython-input-2-29a60a855cc7>\u001b[0m in \u001b[0;36m<module>\u001b[1;34m\u001b[0m\n\u001b[0;32m      1\u001b[0m \u001b[1;31m# Cálculo da média e desvio padrão dos dados de entrada de treinamento\u001b[0m\u001b[1;33m\u001b[0m\u001b[1;33m\u001b[0m\u001b[1;33m\u001b[0m\u001b[0m\n\u001b[1;32m----> 2\u001b[1;33m \u001b[0mmeanx\u001b[0m \u001b[1;33m=\u001b[0m \u001b[0mx_train\u001b[0m\u001b[1;33m.\u001b[0m\u001b[0mmean\u001b[0m\u001b[1;33m(\u001b[0m\u001b[0maxis\u001b[0m\u001b[1;33m=\u001b[0m\u001b[1;36m0\u001b[0m\u001b[1;33m)\u001b[0m\u001b[1;33m\u001b[0m\u001b[1;33m\u001b[0m\u001b[0m\n\u001b[0m\u001b[0;32m      3\u001b[0m \u001b[0mstdx\u001b[0m \u001b[1;33m=\u001b[0m \u001b[0mx_train\u001b[0m\u001b[1;33m.\u001b[0m\u001b[0mstd\u001b[0m\u001b[1;33m(\u001b[0m\u001b[0maxis\u001b[0m\u001b[1;33m=\u001b[0m\u001b[1;36m0\u001b[0m\u001b[1;33m)\u001b[0m\u001b[1;33m\u001b[0m\u001b[1;33m\u001b[0m\u001b[0m\n\u001b[0;32m      4\u001b[0m \u001b[1;33m\u001b[0m\u001b[0m\n\u001b[0;32m      5\u001b[0m \u001b[1;33m\u001b[0m\u001b[0m\n",
      "\u001b[1;31mNameError\u001b[0m: name 'x_train' is not defined"
     ]
    }
   ],
   "source": [
    "# Cálculo da média e desvio padrão dos dados de entrada de treinamento\n",
    "meanx = x_train.mean(axis=0)\n",
    "stdx = x_train.std(axis=0)\n",
    "\n",
    "\n",
    "# Normalização das entradas dos dados de treinamento, validação e teste usando as médias meanx e os desvios padrão stdx\n",
    "x_train_norm = (x_train - meanx)/stdx\n",
    "x_val_norm = (x_val - meanx)/stdx\n",
    "x_test_norm = (x_test - meanx)/stdx\n",
    "\n",
    "\n",
    "\n",
    "# Cálculo da média e desvio padrão dos dados de saída de treinamento\n",
    "meany = y_train.mean(axis=0)\n",
    "stdy = y_train.std(axis=0)\n",
    "\n",
    "\n",
    "\n",
    "# Normalização das saídas dos dados de treinamento, validação eteste usando as médias meany e os desvios padrão stdy.\n",
    "y_train_norm = (y_train - meany)/stdy\n",
    "y_val_norm = (y_val - meany)/stdy\n",
    "y_test_norm = (y_test - meany)/stdy"
   ]
  },
  {
   "cell_type": "code",
   "execution_count": null,
   "id": "cb08693d",
   "metadata": {},
   "outputs": [],
   "source": []
  }
 ],
 "metadata": {
  "kernelspec": {
   "display_name": "Python 3",
   "language": "python",
   "name": "python3"
  },
  "language_info": {
   "codemirror_mode": {
    "name": "ipython",
    "version": 3
   },
   "file_extension": ".py",
   "mimetype": "text/x-python",
   "name": "python",
   "nbconvert_exporter": "python",
   "pygments_lexer": "ipython3",
   "version": "3.8.8"
  }
 },
 "nbformat": 4,
 "nbformat_minor": 5
}
