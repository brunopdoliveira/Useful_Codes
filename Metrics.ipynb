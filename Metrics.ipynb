{
 "cells": [
  {
   "cell_type": "markdown",
   "id": "fe5a4c26",
   "metadata": {},
   "source": [
    "# Métricas\n",
    "\n",
    "### Bruno Oliveira"
   ]
  },
  {
   "cell_type": "markdown",
   "id": "fb5db667",
   "metadata": {},
   "source": [
    "# Exatidão ('accuracy')\n",
    "- A exatidão de uma solução representa o quão próxima ela está da solução correta.\n",
    "- Para escolhermos a métrica exatidão no Keras basta incluir essa informação na etapa de compilação da RNA.\n"
   ]
  },
  {
   "cell_type": "code",
   "execution_count": null,
   "id": "c63bb614",
   "metadata": {},
   "outputs": [],
   "source": [
    "from tensorflow.keras import optimizers\n",
    "rna.compile(optimizer='SGD', loss='binary_crossentropy', metrics=['accuracy'])"
   ]
  },
  {
   "cell_type": "markdown",
   "id": "795c7365",
   "metadata": {},
   "source": [
    "# Erro absoluto médio ('mae')\n",
    "- A exatidão de uma solução representa o quão próxima ela está da solução correta.\n",
    "- Para escolhermos a métrica exatidão no Keras basta incluir essa informação na etapa de compilação da RNA.\n",
    "- No comando abaixo a função de custo 'mse' representa o erro quadrático médio, que é normalmente utilizada para problemas de ajuste de funções.\n"
   ]
  },
  {
   "cell_type": "code",
   "execution_count": null,
   "id": "42c73e0d",
   "metadata": {},
   "outputs": [],
   "source": [
    "from tensorflow.keras import optimizers\n",
    "rna.compile(optimizer='SGD', loss='mse', metrics=['mae'])"
   ]
  },
  {
   "cell_type": "markdown",
   "id": "facce3a1",
   "metadata": {},
   "source": [
    "# Precisão e Revocação ('precision/recal')\n",
    "- Para problemas de classificação onde o número de exemplos de uma classe é desbalanceado não se deve usar a exatidão como métrica.\n",
    "- PRECISÃO - No caso do exemplo de pacientes com câncer, precisão é a fração de pacientes que foram detectados como tendo câncer e que de fato tem câncer.\n",
    "- REVOCAÇÃO - No caso do exemplo de pacientes com câncer, revocação é a fração dos pacientes previstos como tendo câncer em relação a todos os pacientes que de fato tem câncer.\n",
    "- Quanto maior o limiar, maior a precisão e menor a revocação.\n",
    "- Quanto menor o limiar, maior a revocação e menor a precisão.\n",
    "- Para escolhermos as métrica PV, PF, NV e NF no Keras do TensorFlow usamos na compilação o seguinte comando:"
   ]
  },
  {
   "cell_type": "code",
   "execution_count": null,
   "id": "1d8d6a64",
   "metadata": {},
   "outputs": [],
   "source": [
    "rna.compile('sgd', loss='mse', \n",
    "            metrics=[tf.keras.metrics.TruePositives(),\n",
    "            tf.keras.metrics.TrueNegatives(),\n",
    "            tf.keras.metrics.FalsePositives(),\n",
    "            tf.keras.metrics.FalseNegatives()])"
   ]
  },
  {
   "cell_type": "markdown",
   "id": "2c141e80",
   "metadata": {},
   "source": [
    "- Para escolhermos as métricas precisão e revocação no Keras do TensorFlow usamos na compilação o seguinte comando:"
   ]
  },
  {
   "cell_type": "code",
   "execution_count": null,
   "id": "49a3dc67",
   "metadata": {},
   "outputs": [],
   "source": [
    "rna.compile('sgd', loss='mse', metrics=[tf.keras.metrics.Recall(),\n",
    "            tf.keras.metrics.Precision()])"
   ]
  }
 ],
 "metadata": {
  "kernelspec": {
   "display_name": "Python 3",
   "language": "python",
   "name": "python3"
  },
  "language_info": {
   "codemirror_mode": {
    "name": "ipython",
    "version": 3
   },
   "file_extension": ".py",
   "mimetype": "text/x-python",
   "name": "python",
   "nbconvert_exporter": "python",
   "pygments_lexer": "ipython3",
   "version": "3.8.8"
  }
 },
 "nbformat": 4,
 "nbformat_minor": 5
}
